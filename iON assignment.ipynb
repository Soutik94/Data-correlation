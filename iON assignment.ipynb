{
 "cells": [
  {
   "cell_type": "code",
   "execution_count": 46,
   "metadata": {},
   "outputs": [],
   "source": [
    "import pandas as pd\n",
    "import numpy as np\n",
    "import scipy as scp\n",
    "from scipy import stats\n",
    "from scipy.stats import pearsonr\n",
    "import matplotlib as plt\n",
    "%matplotlib inline\n",
    "from matplotlib import pyplot"
   ]
  },
  {
   "cell_type": "code",
   "execution_count": 47,
   "metadata": {},
   "outputs": [],
   "source": [
    "data= pd.read_csv(\"D:/My Folder/ION/Assignment file for Data Analyst - assignment file.csv\")"
   ]
  },
  {
   "cell_type": "code",
   "execution_count": 48,
   "metadata": {},
   "outputs": [
    {
     "name": "stdout",
     "output_type": "stream",
     "text": [
      "<class 'pandas.core.frame.DataFrame'>\n",
      "RangeIndex: 31104 entries, 0 to 31103\n",
      "Data columns (total 12 columns):\n",
      "Timestamp                             31104 non-null float64\n",
      "Current                               31104 non-null int64\n",
      "Total voltage                         31104 non-null float64\n",
      "SOC                                   31104 non-null float64\n",
      "Temperature                           31104 non-null float64\n",
      "SOH                                   31104 non-null float64\n",
      "Equivalent cycle                      31104 non-null float64\n",
      "Application status                    31104 non-null int64\n",
      "Grid status                           31104 non-null int64\n",
      "Grid power                            31104 non-null float64\n",
      "Grid energy consumption               31104 non-null float64\n",
      "Grid cumulative energy consumption    31104 non-null float64\n",
      "dtypes: float64(9), int64(3)\n",
      "memory usage: 2.8 MB\n"
     ]
    }
   ],
   "source": [
    "data.info()"
   ]
  },
  {
   "cell_type": "code",
   "execution_count": 50,
   "metadata": {},
   "outputs": [
    {
     "data": {
      "text/html": [
       "<div>\n",
       "<style scoped>\n",
       "    .dataframe tbody tr th:only-of-type {\n",
       "        vertical-align: middle;\n",
       "    }\n",
       "\n",
       "    .dataframe tbody tr th {\n",
       "        vertical-align: top;\n",
       "    }\n",
       "\n",
       "    .dataframe thead th {\n",
       "        text-align: right;\n",
       "    }\n",
       "</style>\n",
       "<table border=\"1\" class=\"dataframe\">\n",
       "  <thead>\n",
       "    <tr style=\"text-align: right;\">\n",
       "      <th></th>\n",
       "      <th>count</th>\n",
       "      <th>mean</th>\n",
       "      <th>std</th>\n",
       "      <th>min</th>\n",
       "      <th>25%</th>\n",
       "      <th>50%</th>\n",
       "      <th>75%</th>\n",
       "      <th>max</th>\n",
       "    </tr>\n",
       "  </thead>\n",
       "  <tbody>\n",
       "    <tr>\n",
       "      <th>Timestamp</th>\n",
       "      <td>31104.0</td>\n",
       "      <td>1.572253e+12</td>\n",
       "      <td>8.979096e+09</td>\n",
       "      <td>1.556700e+12</td>\n",
       "      <td>1.564480e+12</td>\n",
       "      <td>1.572250e+12</td>\n",
       "      <td>1.580030e+12</td>\n",
       "      <td>1.587800e+12</td>\n",
       "    </tr>\n",
       "    <tr>\n",
       "      <th>Current</th>\n",
       "      <td>31104.0</td>\n",
       "      <td>-3.858025e-03</td>\n",
       "      <td>3.317085e+01</td>\n",
       "      <td>-3.000000e+02</td>\n",
       "      <td>0.000000e+00</td>\n",
       "      <td>0.000000e+00</td>\n",
       "      <td>1.000000e+01</td>\n",
       "      <td>1.000000e+01</td>\n",
       "    </tr>\n",
       "    <tr>\n",
       "      <th>Total voltage</th>\n",
       "      <td>31104.0</td>\n",
       "      <td>6.427220e+01</td>\n",
       "      <td>1.918436e+00</td>\n",
       "      <td>4.816035e+01</td>\n",
       "      <td>6.370021e+01</td>\n",
       "      <td>6.529974e+01</td>\n",
       "      <td>6.534454e+01</td>\n",
       "      <td>6.672000e+01</td>\n",
       "    </tr>\n",
       "    <tr>\n",
       "      <th>SOC</th>\n",
       "      <td>31104.0</td>\n",
       "      <td>8.289451e-01</td>\n",
       "      <td>1.340328e-01</td>\n",
       "      <td>-1.557136e-01</td>\n",
       "      <td>7.817417e-01</td>\n",
       "      <td>9.019145e-01</td>\n",
       "      <td>9.050290e-01</td>\n",
       "      <td>1.000000e+00</td>\n",
       "    </tr>\n",
       "    <tr>\n",
       "      <th>Temperature</th>\n",
       "      <td>31104.0</td>\n",
       "      <td>2.791573e+01</td>\n",
       "      <td>1.330807e+01</td>\n",
       "      <td>2.026328e+01</td>\n",
       "      <td>2.227295e+01</td>\n",
       "      <td>2.606085e+01</td>\n",
       "      <td>2.952342e+01</td>\n",
       "      <td>1.361182e+02</td>\n",
       "    </tr>\n",
       "    <tr>\n",
       "      <th>SOH</th>\n",
       "      <td>31104.0</td>\n",
       "      <td>9.482256e-01</td>\n",
       "      <td>1.963543e-02</td>\n",
       "      <td>9.193983e-01</td>\n",
       "      <td>9.320675e-01</td>\n",
       "      <td>9.451872e-01</td>\n",
       "      <td>9.631542e-01</td>\n",
       "      <td>1.000000e+00</td>\n",
       "    </tr>\n",
       "    <tr>\n",
       "      <th>Equivalent cycle</th>\n",
       "      <td>31104.0</td>\n",
       "      <td>5.256384e+01</td>\n",
       "      <td>3.130174e+01</td>\n",
       "      <td>0.000000e+00</td>\n",
       "      <td>2.443846e+01</td>\n",
       "      <td>5.249951e+01</td>\n",
       "      <td>7.724166e+01</td>\n",
       "      <td>1.078477e+02</td>\n",
       "    </tr>\n",
       "    <tr>\n",
       "      <th>Application status</th>\n",
       "      <td>31104.0</td>\n",
       "      <td>9.999678e-01</td>\n",
       "      <td>5.670115e-03</td>\n",
       "      <td>0.000000e+00</td>\n",
       "      <td>1.000000e+00</td>\n",
       "      <td>1.000000e+00</td>\n",
       "      <td>1.000000e+00</td>\n",
       "      <td>1.000000e+00</td>\n",
       "    </tr>\n",
       "    <tr>\n",
       "      <th>Grid status</th>\n",
       "      <td>31104.0</td>\n",
       "      <td>9.881366e-01</td>\n",
       "      <td>1.082731e-01</td>\n",
       "      <td>0.000000e+00</td>\n",
       "      <td>1.000000e+00</td>\n",
       "      <td>1.000000e+00</td>\n",
       "      <td>1.000000e+00</td>\n",
       "      <td>1.000000e+00</td>\n",
       "    </tr>\n",
       "    <tr>\n",
       "      <th>Grid power</th>\n",
       "      <td>31104.0</td>\n",
       "      <td>2.214946e+02</td>\n",
       "      <td>2.991291e+02</td>\n",
       "      <td>0.000000e+00</td>\n",
       "      <td>0.000000e+00</td>\n",
       "      <td>0.000000e+00</td>\n",
       "      <td>6.174105e+02</td>\n",
       "      <td>6.540143e+02</td>\n",
       "    </tr>\n",
       "    <tr>\n",
       "      <th>Grid energy consumption</th>\n",
       "      <td>31104.0</td>\n",
       "      <td>6.152627e+01</td>\n",
       "      <td>8.309141e+01</td>\n",
       "      <td>0.000000e+00</td>\n",
       "      <td>0.000000e+00</td>\n",
       "      <td>0.000000e+00</td>\n",
       "      <td>1.715029e+02</td>\n",
       "      <td>1.816707e+02</td>\n",
       "    </tr>\n",
       "    <tr>\n",
       "      <th>Grid cumulative energy consumption</th>\n",
       "      <td>31104.0</td>\n",
       "      <td>9.442240e+05</td>\n",
       "      <td>5.556151e+05</td>\n",
       "      <td>0.000000e+00</td>\n",
       "      <td>4.466059e+05</td>\n",
       "      <td>9.466569e+05</td>\n",
       "      <td>1.386711e+06</td>\n",
       "      <td>1.913713e+06</td>\n",
       "    </tr>\n",
       "  </tbody>\n",
       "</table>\n",
       "</div>"
      ],
      "text/plain": [
       "                                      count          mean           std  \\\n",
       "Timestamp                           31104.0  1.572253e+12  8.979096e+09   \n",
       "Current                             31104.0 -3.858025e-03  3.317085e+01   \n",
       "Total voltage                       31104.0  6.427220e+01  1.918436e+00   \n",
       "SOC                                 31104.0  8.289451e-01  1.340328e-01   \n",
       "Temperature                         31104.0  2.791573e+01  1.330807e+01   \n",
       "SOH                                 31104.0  9.482256e-01  1.963543e-02   \n",
       "Equivalent cycle                    31104.0  5.256384e+01  3.130174e+01   \n",
       "Application status                  31104.0  9.999678e-01  5.670115e-03   \n",
       "Grid status                         31104.0  9.881366e-01  1.082731e-01   \n",
       "Grid power                          31104.0  2.214946e+02  2.991291e+02   \n",
       "Grid energy consumption             31104.0  6.152627e+01  8.309141e+01   \n",
       "Grid cumulative energy consumption  31104.0  9.442240e+05  5.556151e+05   \n",
       "\n",
       "                                             min           25%           50%  \\\n",
       "Timestamp                           1.556700e+12  1.564480e+12  1.572250e+12   \n",
       "Current                            -3.000000e+02  0.000000e+00  0.000000e+00   \n",
       "Total voltage                       4.816035e+01  6.370021e+01  6.529974e+01   \n",
       "SOC                                -1.557136e-01  7.817417e-01  9.019145e-01   \n",
       "Temperature                         2.026328e+01  2.227295e+01  2.606085e+01   \n",
       "SOH                                 9.193983e-01  9.320675e-01  9.451872e-01   \n",
       "Equivalent cycle                    0.000000e+00  2.443846e+01  5.249951e+01   \n",
       "Application status                  0.000000e+00  1.000000e+00  1.000000e+00   \n",
       "Grid status                         0.000000e+00  1.000000e+00  1.000000e+00   \n",
       "Grid power                          0.000000e+00  0.000000e+00  0.000000e+00   \n",
       "Grid energy consumption             0.000000e+00  0.000000e+00  0.000000e+00   \n",
       "Grid cumulative energy consumption  0.000000e+00  4.466059e+05  9.466569e+05   \n",
       "\n",
       "                                             75%           max  \n",
       "Timestamp                           1.580030e+12  1.587800e+12  \n",
       "Current                             1.000000e+01  1.000000e+01  \n",
       "Total voltage                       6.534454e+01  6.672000e+01  \n",
       "SOC                                 9.050290e-01  1.000000e+00  \n",
       "Temperature                         2.952342e+01  1.361182e+02  \n",
       "SOH                                 9.631542e-01  1.000000e+00  \n",
       "Equivalent cycle                    7.724166e+01  1.078477e+02  \n",
       "Application status                  1.000000e+00  1.000000e+00  \n",
       "Grid status                         1.000000e+00  1.000000e+00  \n",
       "Grid power                          6.174105e+02  6.540143e+02  \n",
       "Grid energy consumption             1.715029e+02  1.816707e+02  \n",
       "Grid cumulative energy consumption  1.386711e+06  1.913713e+06  "
      ]
     },
     "execution_count": 50,
     "metadata": {},
     "output_type": "execute_result"
    }
   ],
   "source": [
    "data.describe().transpose()"
   ]
  },
  {
   "cell_type": "code",
   "execution_count": 51,
   "metadata": {},
   "outputs": [],
   "source": [
    "pair1=stats.pointbiserialr(data['SOC'],data['Grid status'])"
   ]
  },
  {
   "cell_type": "code",
   "execution_count": 52,
   "metadata": {},
   "outputs": [
    {
     "name": "stdout",
     "output_type": "stream",
     "text": [
      "PointbiserialrResult(correlation=0.22794666128547855, pvalue=0.0)\n"
     ]
    }
   ],
   "source": [
    "print(pair1)"
   ]
  },
  {
   "cell_type": "code",
   "execution_count": 58,
   "metadata": {},
   "outputs": [
    {
     "name": "stdout",
     "output_type": "stream",
     "text": [
      "Mean is Grid status\n",
      "0    0.550114\n",
      "1    0.832293\n",
      "Name: SOC, dtype: float64 Max is Grid status\n",
      "0    0.721685\n",
      "1    1.000000\n",
      "Name: SOC, dtype: float64 Min is Grid status\n",
      "0   -0.155714\n",
      "1   -0.145713\n",
      "Name: SOC, dtype: float64\n"
     ]
    }
   ],
   "source": [
    "dmean= data.SOC.groupby(data['Grid status']).mean()\n",
    "dmax=data.SOC.groupby(data['Grid status']).max()\n",
    "dmin=data.SOC.groupby(data['Grid status']).min()\n",
    "\n",
    "\n",
    "print('Mean is', dmean,'Max is',dmax, 'Min is',dmin)"
   ]
  },
  {
   "cell_type": "code",
   "execution_count": 63,
   "metadata": {},
   "outputs": [
    {
     "data": {
      "text/plain": [
       "<matplotlib.axes._subplots.AxesSubplot at 0x1fd11e1e828>"
      ]
     },
     "execution_count": 63,
     "metadata": {},
     "output_type": "execute_result"
    },
    {
     "data": {
      "image/png": "[encoded data removed]",
      "text/plain": [
       "<Figure size 432x288 with 3 Axes>"
      ]
     },
     "metadata": {},
     "output_type": "display_data"
    }
   ],
   "source": [
    "pyplot.subplot(2,2,1)\n",
    "dmean.plot.bar(title='Mean Charge status')\n",
    "pyplot.subplot(2,2,2)\n",
    "dmax.plot.bar(title='Max Charge status')\n",
    "pyplot.subplot(2,2)\n",
    "dmin.plot.bar(title='Min Charge status')"
   ]
  },
  {
   "cell_type": "code",
   "execution_count": 29,
   "metadata": {},
   "outputs": [],
   "source": [
    "pair2=pearsonr(data['SOH'],data['Equivalent cycle'])"
   ]
  },
  {
   "cell_type": "code",
   "execution_count": 30,
   "metadata": {},
   "outputs": [
    {
     "name": "stdout",
     "output_type": "stream",
     "text": [
      "(-0.9842624478536391, 0.0)\n"
     ]
    }
   ],
   "source": [
    "print(pair2)"
   ]
  },
  {
   "cell_type": "code",
   "execution_count": 35,
   "metadata": {},
   "outputs": [
    {
     "data": {
      "text/plain": [
       "<function matplotlib.pyplot.show(*args, **kw)>"
      ]
     },
     "execution_count": 35,
     "metadata": {},
     "output_type": "execute_result"
    },
    {
     "data": {
      "image/png": "[encoded data removed]",
      "text/plain": [
       "<Figure size 432x288 with 1 Axes>"
      ]
     },
     "metadata": {},
     "output_type": "display_data"
    }
   ],
   "source": [
    "plt.style.use('ggplot')\n",
    "pyplot.scatter(data['SOH'],data['Equivalent cycle'])\n",
    "pyplot.show"
   ]
  },
  {
   "cell_type": "code",
   "execution_count": 36,
   "metadata": {},
   "outputs": [],
   "source": [
    "pair3=pearsonr(data['SOC'],data['Temperature'])"
   ]
  },
  {
   "cell_type": "code",
   "execution_count": 37,
   "metadata": {},
   "outputs": [
    {
     "name": "stdout",
     "output_type": "stream",
     "text": [
      "(-0.369040353266106, 0.0)\n"
     ]
    }
   ],
   "source": [
    "print(pair3)"
   ]
  },
  {
   "cell_type": "code",
   "execution_count": 38,
   "metadata": {},
   "outputs": [
    {
     "data": {
      "text/plain": [
       "<function matplotlib.pyplot.show(*args, **kw)>"
      ]
     },
     "execution_count": 38,
     "metadata": {},
     "output_type": "execute_result"
    },
    {
     "data": {
      "image/png": "[encoded data removed]",
      "text/plain": [
       "<Figure size 432x288 with 1 Axes>"
      ]
     },
     "metadata": {},
     "output_type": "display_data"
    }
   ],
   "source": [
    "plt.style.use('ggplot')\n",
    "pyplot.scatter(data['SOC'],data['Temperature'])\n",
    "pyplot.show"
   ]
  },
  {
   "cell_type": "code",
   "execution_count": null,
   "metadata": {},
   "outputs": [],
   "source": []
  }
 ],
 "metadata": {
  "kernelspec": {
   "display_name": "Python 3",
   "language": "python",
   "name": "python3"
  },
  "language_info": {
   "codemirror_mode": {
    "name": "ipython",
    "version": 3
   },
   "file_extension": ".py",
   "mimetype": "text/x-python",
   "name": "python",
   "nbconvert_exporter": "python",
   "pygments_lexer": "ipython3",
   "version": "3.6.5"
  }
 },
 "nbformat": 4,
 "nbformat_minor": 2
}
